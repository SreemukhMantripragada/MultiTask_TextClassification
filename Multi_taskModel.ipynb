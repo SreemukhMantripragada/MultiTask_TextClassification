{
  "nbformat": 4,
  "nbformat_minor": 0,
  "metadata": {
    "colab": {
      "name": "Multi-taskModel.ipynb",
      "provenance": [],
      "collapsed_sections": []
    },
    "kernelspec": {
      "display_name": "Python 3",
      "language": "python",
      "name": "python3"
    },
    "language_info": {
      "codemirror_mode": {
        "name": "ipython",
        "version": 3
      },
      "file_extension": ".py",
      "mimetype": "text/x-python",
      "name": "python",
      "nbconvert_exporter": "python",
      "pygments_lexer": "ipython3",
      "version": "3.8.5"
    },
    "accelerator": "GPU"
  },
  "cells": [
    {
      "cell_type": "markdown",
      "metadata": {
        "id": "Wj97pa5ChLwa"
      },
      "source": [
        "#Training a Transformer based Multi-Task keras Model"
      ]
    },
    {
      "cell_type": "code",
      "metadata": {
        "colab": {
          "base_uri": "https://localhost:8080/"
        },
        "id": "RrEjKkuu__nL",
        "outputId": "4339ad7e-fcd1-440c-c338-fca069d5b9f2"
      },
      "source": [
        "from google.colab import drive\n",
        "drive.mount('/content/drive')"
      ],
      "execution_count": 1,
      "outputs": [
        {
          "output_type": "stream",
          "text": [
            "Drive already mounted at /content/drive; to attempt to forcibly remount, call drive.mount(\"/content/drive\", force_remount=True).\n"
          ],
          "name": "stdout"
        }
      ]
    },
    {
      "cell_type": "code",
      "metadata": {
        "id": "gJr_9dXGpJ05"
      },
      "source": [
        "import tensorflow as tf\n",
        "from tensorflow import keras\n",
        "from tensorflow.keras import layers\n",
        "physical_devices = tf.config.list_physical_devices('GPU') \n",
        "tf.config.experimental.set_memory_growth(physical_devices[0], True)"
      ],
      "execution_count": 2,
      "outputs": []
    },
    {
      "cell_type": "code",
      "metadata": {
        "id": "PekXx4zH_0y8"
      },
      "source": [
        "import os"
      ],
      "execution_count": 3,
      "outputs": []
    },
    {
      "cell_type": "markdown",
      "metadata": {
        "id": "Rv7uFbPwhbAw"
      },
      "source": [
        "## One of the tasks is Multi-Label Classification of movie Plot synopsis"
      ]
    },
    {
      "cell_type": "code",
      "metadata": {
        "id": "YrIBmFE-Bj9q"
      },
      "source": [
        "#Download and Extract the zip file\n",
        "\n",
        "url = \"http://ai.stanford.edu/~amaas/data/sentiment/aclImdb_v1.tar.gz\"\n",
        "import requests \n",
        "\n",
        "def download_url(url, save_path, chunk_size=128):\n",
        "    r = requests.get(url, stream=True)\n",
        "    with open(save_path, 'wb') as fd:\n",
        "        for chunk in r.iter_content(chunk_size=chunk_size):\n",
        "            fd.write(chunk)"
      ],
      "execution_count": 4,
      "outputs": []
    },
    {
      "cell_type": "code",
      "metadata": {
        "id": "ZNN6HYEDB8wg"
      },
      "source": [
        "download_url(url, 'file.tar.gz')"
      ],
      "execution_count": 5,
      "outputs": []
    },
    {
      "cell_type": "code",
      "metadata": {
        "id": "Pgw12ow7CfcJ"
      },
      "source": [
        "import tarfile\n",
        "tar = tarfile.open('file.tar.gz', \"r:gz\")\n",
        "tar.extractall()\n",
        "tar.close()"
      ],
      "execution_count": 6,
      "outputs": []
    },
    {
      "cell_type": "markdown",
      "metadata": {
        "id": "gyhOsO70hsm2"
      },
      "source": [
        "## Second task is to find whether a movie review is Positive or Negative"
      ]
    },
    {
      "cell_type": "code",
      "metadata": {
        "id": "AVM9w4FD_0y9"
      },
      "source": [
        "path1 = \"/content/aclImdb/train/neg/\"\n",
        "text_files_neg = os.listdir(path1)"
      ],
      "execution_count": 7,
      "outputs": []
    },
    {
      "cell_type": "code",
      "metadata": {
        "id": "xBUjJBvF_0y9"
      },
      "source": [
        "x1 = []\n",
        "y1 = []"
      ],
      "execution_count": 8,
      "outputs": []
    },
    {
      "cell_type": "code",
      "metadata": {
        "id": "3joDYL_w_0y-"
      },
      "source": [
        "for i, file in enumerate(text_files_neg):\n",
        "#     if i%1000==0:\n",
        "#         print(i)\n",
        "    text = \"\"\n",
        "    f = open(path1+file, encoding=\"utf8\")\n",
        "    text = f.read().replace('\\n', '')\n",
        "#     x1.append(text)\n",
        "    x1 += [text]\n",
        "    y1.append(0)"
      ],
      "execution_count": 9,
      "outputs": []
    },
    {
      "cell_type": "code",
      "metadata": {
        "id": "TF6wNEP3_0y-"
      },
      "source": [
        "path2 = \"/content/aclImdb/train/pos/\"\n",
        "text_files_pos = os.listdir(path2)"
      ],
      "execution_count": 10,
      "outputs": []
    },
    {
      "cell_type": "code",
      "metadata": {
        "id": "9rjKtT4P_0y_"
      },
      "source": [
        "for i, file in enumerate(text_files_pos):\n",
        "#     if i%1000==0:\n",
        "#         print(i)\n",
        "    text = \"\"\n",
        "    f = open(path2+file, encoding=\"utf8\")\n",
        "    text = f.read().replace('\\n', '')\n",
        "#     x1.append(text)\n",
        "    x1 += [text]\n",
        "    y1.append(1)"
      ],
      "execution_count": 11,
      "outputs": []
    },
    {
      "cell_type": "code",
      "metadata": {
        "id": "N8z1oMHkY6e7"
      },
      "source": [
        "import pandas as pd\n",
        "import numpy as np"
      ],
      "execution_count": 12,
      "outputs": []
    },
    {
      "cell_type": "code",
      "metadata": {
        "colab": {
          "base_uri": "https://localhost:8080/",
          "height": 262
        },
        "id": "9OpU8M7OgHh0",
        "outputId": "02c4bc63-6918-493e-c1d6-18857fafcaac"
      },
      "source": [
        "data_path = \"/content/drive/MyDrive/train.csv\"\n",
        "data_raw = pd.read_csv(data_path)\n",
        "print(\"Number of rows in data =\",data_raw.shape[0])\n",
        "print(\"Number of columns in data =\",data_raw.shape[1])\n",
        "print(\"\\n\")\n",
        "data_raw.head()"
      ],
      "execution_count": 13,
      "outputs": [
        {
          "output_type": "stream",
          "text": [
            "Number of rows in data = 159571\n",
            "Number of columns in data = 8\n",
            "\n",
            "\n"
          ],
          "name": "stdout"
        },
        {
          "output_type": "execute_result",
          "data": {
            "text/html": [
              "<div>\n",
              "<style scoped>\n",
              "    .dataframe tbody tr th:only-of-type {\n",
              "        vertical-align: middle;\n",
              "    }\n",
              "\n",
              "    .dataframe tbody tr th {\n",
              "        vertical-align: top;\n",
              "    }\n",
              "\n",
              "    .dataframe thead th {\n",
              "        text-align: right;\n",
              "    }\n",
              "</style>\n",
              "<table border=\"1\" class=\"dataframe\">\n",
              "  <thead>\n",
              "    <tr style=\"text-align: right;\">\n",
              "      <th></th>\n",
              "      <th>id</th>\n",
              "      <th>comment_text</th>\n",
              "      <th>toxic</th>\n",
              "      <th>severe_toxic</th>\n",
              "      <th>obscene</th>\n",
              "      <th>threat</th>\n",
              "      <th>insult</th>\n",
              "      <th>identity_hate</th>\n",
              "    </tr>\n",
              "  </thead>\n",
              "  <tbody>\n",
              "    <tr>\n",
              "      <th>0</th>\n",
              "      <td>0000997932d777bf</td>\n",
              "      <td>Explanation\\nWhy the edits made under my usern...</td>\n",
              "      <td>0</td>\n",
              "      <td>0</td>\n",
              "      <td>0</td>\n",
              "      <td>0</td>\n",
              "      <td>0</td>\n",
              "      <td>0</td>\n",
              "    </tr>\n",
              "    <tr>\n",
              "      <th>1</th>\n",
              "      <td>000103f0d9cfb60f</td>\n",
              "      <td>D'aww! He matches this background colour I'm s...</td>\n",
              "      <td>0</td>\n",
              "      <td>0</td>\n",
              "      <td>0</td>\n",
              "      <td>0</td>\n",
              "      <td>0</td>\n",
              "      <td>0</td>\n",
              "    </tr>\n",
              "    <tr>\n",
              "      <th>2</th>\n",
              "      <td>000113f07ec002fd</td>\n",
              "      <td>Hey man, I'm really not trying to edit war. It...</td>\n",
              "      <td>0</td>\n",
              "      <td>0</td>\n",
              "      <td>0</td>\n",
              "      <td>0</td>\n",
              "      <td>0</td>\n",
              "      <td>0</td>\n",
              "    </tr>\n",
              "    <tr>\n",
              "      <th>3</th>\n",
              "      <td>0001b41b1c6bb37e</td>\n",
              "      <td>\"\\nMore\\nI can't make any real suggestions on ...</td>\n",
              "      <td>0</td>\n",
              "      <td>0</td>\n",
              "      <td>0</td>\n",
              "      <td>0</td>\n",
              "      <td>0</td>\n",
              "      <td>0</td>\n",
              "    </tr>\n",
              "    <tr>\n",
              "      <th>4</th>\n",
              "      <td>0001d958c54c6e35</td>\n",
              "      <td>You, sir, are my hero. Any chance you remember...</td>\n",
              "      <td>0</td>\n",
              "      <td>0</td>\n",
              "      <td>0</td>\n",
              "      <td>0</td>\n",
              "      <td>0</td>\n",
              "      <td>0</td>\n",
              "    </tr>\n",
              "  </tbody>\n",
              "</table>\n",
              "</div>"
            ],
            "text/plain": [
              "                 id  ... identity_hate\n",
              "0  0000997932d777bf  ...             0\n",
              "1  000103f0d9cfb60f  ...             0\n",
              "2  000113f07ec002fd  ...             0\n",
              "3  0001b41b1c6bb37e  ...             0\n",
              "4  0001d958c54c6e35  ...             0\n",
              "\n",
              "[5 rows x 8 columns]"
            ]
          },
          "metadata": {
            "tags": []
          },
          "execution_count": 13
        }
      ]
    },
    {
      "cell_type": "code",
      "metadata": {
        "id": "JNIMAFoycKM2"
      },
      "source": [
        "data_raw = data_raw.head(50000)"
      ],
      "execution_count": 14,
      "outputs": []
    },
    {
      "cell_type": "markdown",
      "metadata": {
        "id": "NUbVrEYch8Rn"
      },
      "source": [
        "## Preprocessing Text data"
      ]
    },
    {
      "cell_type": "code",
      "metadata": {
        "id": "AZHrN1yI_0zB"
      },
      "source": [
        "import nltk\n",
        "from nltk.corpus import stopwords\n",
        "from nltk.stem.snowball import SnowballStemmer\n",
        "import re\n",
        "import sys\n",
        "import warnings\n",
        "data = data_raw\n",
        "if not sys.warnoptions:\n",
        "    warnings.simplefilter(\"ignore\")\n",
        "def cleanHtml(sentence):\n",
        "    cleanr = re.compile('<.*?>')\n",
        "    cleantext = re.sub(cleanr, ' ', str(sentence))\n",
        "    return cleantext\n",
        "def cleanPunc(sentence): #function to clean the word of any punctuation or special characters\n",
        "    cleaned = re.sub(r'[?|!|\\'|\"|#]',r'',sentence)\n",
        "    cleaned = re.sub(r'[.|,|)|(|\\|/]',r' ',cleaned)\n",
        "    cleaned = cleaned.strip()\n",
        "    cleaned = cleaned.replace(\"\\n\",\" \")\n",
        "    return cleaned\n",
        "def keepAlpha(sentence):\n",
        "    alpha_sent = \"\"\n",
        "    for word in sentence.split():\n",
        "        alpha_word = re.sub('[^a-z A-Z]+', ' ', word)\n",
        "        alpha_sent += alpha_word\n",
        "        alpha_sent += \" \"\n",
        "    alpha_sent = alpha_sent.strip()\n",
        "    return alpha_sent\n",
        "data['comment_text'] = data['comment_text'].str.lower()\n",
        "data['comment_text'] = data['comment_text'].apply(cleanHtml)\n",
        "data['comment_text'] = data['comment_text'].apply(cleanPunc)\n",
        "data['comment_text'] = data['comment_text'].apply(keepAlpha)"
      ],
      "execution_count": 15,
      "outputs": []
    },
    {
      "cell_type": "code",
      "metadata": {
        "id": "YL_N9f7b_0zB",
        "colab": {
          "base_uri": "https://localhost:8080/",
          "height": 195
        },
        "outputId": "50f941ae-f3a5-4050-e7e8-7e4186460cba"
      },
      "source": [
        "data1 = pd.DataFrame(x1)\n",
        "data1.head()"
      ],
      "execution_count": 16,
      "outputs": [
        {
          "output_type": "execute_result",
          "data": {
            "text/html": [
              "<div>\n",
              "<style scoped>\n",
              "    .dataframe tbody tr th:only-of-type {\n",
              "        vertical-align: middle;\n",
              "    }\n",
              "\n",
              "    .dataframe tbody tr th {\n",
              "        vertical-align: top;\n",
              "    }\n",
              "\n",
              "    .dataframe thead th {\n",
              "        text-align: right;\n",
              "    }\n",
              "</style>\n",
              "<table border=\"1\" class=\"dataframe\">\n",
              "  <thead>\n",
              "    <tr style=\"text-align: right;\">\n",
              "      <th></th>\n",
              "      <th>0</th>\n",
              "    </tr>\n",
              "  </thead>\n",
              "  <tbody>\n",
              "    <tr>\n",
              "      <th>0</th>\n",
              "      <td>The Second Renaissance, part 1 let's us show h...</td>\n",
              "    </tr>\n",
              "    <tr>\n",
              "      <th>1</th>\n",
              "      <td>No wonder this movie never saw the light of da...</td>\n",
              "    </tr>\n",
              "    <tr>\n",
              "      <th>2</th>\n",
              "      <td>The first 30min of the flick was choppy and ha...</td>\n",
              "    </tr>\n",
              "    <tr>\n",
              "      <th>3</th>\n",
              "      <td>This is absolutely the worst movie I've seen a...</td>\n",
              "    </tr>\n",
              "    <tr>\n",
              "      <th>4</th>\n",
              "      <td>A romanticised and thoroughly false vision of ...</td>\n",
              "    </tr>\n",
              "  </tbody>\n",
              "</table>\n",
              "</div>"
            ],
            "text/plain": [
              "                                                   0\n",
              "0  The Second Renaissance, part 1 let's us show h...\n",
              "1  No wonder this movie never saw the light of da...\n",
              "2  The first 30min of the flick was choppy and ha...\n",
              "3  This is absolutely the worst movie I've seen a...\n",
              "4  A romanticised and thoroughly false vision of ..."
            ]
          },
          "metadata": {
            "tags": []
          },
          "execution_count": 16
        }
      ]
    },
    {
      "cell_type": "code",
      "metadata": {
        "id": "BWE7YVHE_0zC"
      },
      "source": [
        "data1[0] = data1[0].str.lower()\n",
        "data1[0] = data1[0].apply(cleanHtml)\n",
        "data1[0] = data1[0].apply(cleanPunc)\n",
        "data1[0] = data1[0].apply(keepAlpha)"
      ],
      "execution_count": 17,
      "outputs": []
    },
    {
      "cell_type": "code",
      "metadata": {
        "id": "Jd9wh0Hj_0zC",
        "colab": {
          "base_uri": "https://localhost:8080/",
          "height": 195
        },
        "outputId": "cbffe7fb-e4ea-4c1d-da6c-772250752639"
      },
      "source": [
        "data1.head()"
      ],
      "execution_count": 18,
      "outputs": [
        {
          "output_type": "execute_result",
          "data": {
            "text/html": [
              "<div>\n",
              "<style scoped>\n",
              "    .dataframe tbody tr th:only-of-type {\n",
              "        vertical-align: middle;\n",
              "    }\n",
              "\n",
              "    .dataframe tbody tr th {\n",
              "        vertical-align: top;\n",
              "    }\n",
              "\n",
              "    .dataframe thead th {\n",
              "        text-align: right;\n",
              "    }\n",
              "</style>\n",
              "<table border=\"1\" class=\"dataframe\">\n",
              "  <thead>\n",
              "    <tr style=\"text-align: right;\">\n",
              "      <th></th>\n",
              "      <th>0</th>\n",
              "    </tr>\n",
              "  </thead>\n",
              "  <tbody>\n",
              "    <tr>\n",
              "      <th>0</th>\n",
              "      <td>the second renaissance part   lets us show how...</td>\n",
              "    </tr>\n",
              "    <tr>\n",
              "      <th>1</th>\n",
              "      <td>no wonder this movie never saw the light of da...</td>\n",
              "    </tr>\n",
              "    <tr>\n",
              "      <th>2</th>\n",
              "      <td>the first  min of the flick was choppy and har...</td>\n",
              "    </tr>\n",
              "    <tr>\n",
              "      <th>3</th>\n",
              "      <td>this is absolutely the worst movie ive seen al...</td>\n",
              "    </tr>\n",
              "    <tr>\n",
              "      <th>4</th>\n",
              "      <td>a romanticised and thoroughly false vision of ...</td>\n",
              "    </tr>\n",
              "  </tbody>\n",
              "</table>\n",
              "</div>"
            ],
            "text/plain": [
              "                                                   0\n",
              "0  the second renaissance part   lets us show how...\n",
              "1  no wonder this movie never saw the light of da...\n",
              "2  the first  min of the flick was choppy and har...\n",
              "3  this is absolutely the worst movie ive seen al...\n",
              "4  a romanticised and thoroughly false vision of ..."
            ]
          },
          "metadata": {
            "tags": []
          },
          "execution_count": 18
        }
      ]
    },
    {
      "cell_type": "code",
      "metadata": {
        "id": "bZBXs8yF_0zC",
        "colab": {
          "base_uri": "https://localhost:8080/"
        },
        "outputId": "fc04e845-098a-4c3b-c97c-97ec2d30c558"
      },
      "source": [
        "nltk.download('stopwords')\n",
        "stop_words = set(stopwords.words('english'))\n",
        "stop_words.update(['zero','one','two','three','four','five','six','seven','eight','nine','ten','may','also','across','among','beside','however','yet','within'])\n",
        "re_stop_words = re.compile(r\"\\b(\" + \"|\".join(stop_words) + \")\\\\W\", re.I)\n",
        "def removeStopWords(sentence):\n",
        "    global re_stop_words\n",
        "    return re_stop_words.sub(\" \", sentence)\n",
        "data['comment_text'] = data['comment_text'].apply(removeStopWords)\n",
        "data1[0] = data1[0].apply(removeStopWords)"
      ],
      "execution_count": 19,
      "outputs": [
        {
          "output_type": "stream",
          "text": [
            "[nltk_data] Downloading package stopwords to /root/nltk_data...\n",
            "[nltk_data]   Package stopwords is already up-to-date!\n"
          ],
          "name": "stdout"
        }
      ]
    },
    {
      "cell_type": "code",
      "metadata": {
        "id": "AZO5ikx1_0zD",
        "colab": {
          "base_uri": "https://localhost:8080/"
        },
        "outputId": "d01d40cf-adbd-4ff0-bcc6-b74e3aaa2499"
      },
      "source": [
        "x1.clear()\n",
        "import gc\n",
        "gc.collect()"
      ],
      "execution_count": 20,
      "outputs": [
        {
          "output_type": "execute_result",
          "data": {
            "text/plain": [
              "50"
            ]
          },
          "metadata": {
            "tags": []
          },
          "execution_count": 20
        }
      ]
    },
    {
      "cell_type": "code",
      "metadata": {
        "id": "8QcpZkXw_0zD"
      },
      "source": [
        "stemmer = SnowballStemmer(\"english\")\n",
        "def stemming(sentence):\n",
        "    stemSentence = \"\"\n",
        "    for word in sentence.split():\n",
        "        stem = stemmer.stem(word)\n",
        "        stemSentence += stem\n",
        "        stemSentence += \" \"\n",
        "    stemSentence = stemSentence.strip()\n",
        "    return stemSentence\n",
        "data['comment_text'] = data['comment_text'].apply(stemming)\n",
        "data1[0] = data1[0].apply(stemming)"
      ],
      "execution_count": 21,
      "outputs": []
    },
    {
      "cell_type": "code",
      "metadata": {
        "id": "6t622sbW_0zE"
      },
      "source": [
        "data1.reset_index()\n",
        "data1[\"index\"] = y1"
      ],
      "execution_count": 22,
      "outputs": []
    },
    {
      "cell_type": "code",
      "metadata": {
        "id": "WuQZFuCM_0zE"
      },
      "source": [
        "data1 = data1.sample(frac = 1)"
      ],
      "execution_count": 23,
      "outputs": []
    },
    {
      "cell_type": "code",
      "metadata": {
        "id": "OdPFrI28_0zE"
      },
      "source": [
        "# from sklearn.model_selection import train_test_split\n",
        "# train2, test2 = train_test_split(data, random_state=42, test_size=0.30, shuffle=True)\n",
        "# train1, test1 = train_test_split(data1, random_state=42, test_size=0.30, shuffle=True)"
      ],
      "execution_count": 24,
      "outputs": []
    },
    {
      "cell_type": "code",
      "metadata": {
        "id": "R31tB9wM_0zE"
      },
      "source": [
        "sentences = data[\"comment_text\"].tolist()"
      ],
      "execution_count": 25,
      "outputs": []
    },
    {
      "cell_type": "code",
      "metadata": {
        "id": "JVVt-G_X_0zF"
      },
      "source": [
        "dictionary = {}"
      ],
      "execution_count": 26,
      "outputs": []
    },
    {
      "cell_type": "code",
      "metadata": {
        "id": "ZQOP-uNC_0zF"
      },
      "source": [
        "for line in sentences:\n",
        "    line = line.split(\" \")\n",
        "    for word in line:\n",
        "        dictionary[word] = dictionary.get(word,0) + 1"
      ],
      "execution_count": 27,
      "outputs": []
    },
    {
      "cell_type": "code",
      "metadata": {
        "id": "x5r3_t7m_0zF"
      },
      "source": [
        "sentences = data1[0].tolist()"
      ],
      "execution_count": 28,
      "outputs": []
    },
    {
      "cell_type": "code",
      "metadata": {
        "id": "jfl83Udi_0zF"
      },
      "source": [
        "for line in sentences:\n",
        "    line = line.split(\" \")\n",
        "    for word in line:\n",
        "        dictionary[word] = dictionary.get(word,0) + 1"
      ],
      "execution_count": 29,
      "outputs": []
    },
    {
      "cell_type": "code",
      "metadata": {
        "id": "D5kyQTJF_0zG"
      },
      "source": [
        "for x in dictionary.keys():\n",
        "    if dictionary[x]<60:\n",
        "        dictionary[x] = 0"
      ],
      "execution_count": 30,
      "outputs": []
    },
    {
      "cell_type": "code",
      "metadata": {
        "id": "2z7mm5Xg_0zG"
      },
      "source": [
        "d = dict(sorted(dictionary.items(), key=lambda item: item[1]))"
      ],
      "execution_count": 31,
      "outputs": []
    },
    {
      "cell_type": "code",
      "metadata": {
        "id": "4dZxGWDb_0zH"
      },
      "source": [
        "dic = {}\n",
        "i_prev=0\n",
        "i_curr=0\n",
        "for key in d.keys():\n",
        "    if(i_prev!=d[key]):\n",
        "        i_curr+=1\n",
        "    dic[key] = i_curr\n",
        "    i_prev = d[key]"
      ],
      "execution_count": 32,
      "outputs": []
    },
    {
      "cell_type": "code",
      "metadata": {
        "id": "ZxthGbGp_0zH",
        "colab": {
          "base_uri": "https://localhost:8080/"
        },
        "outputId": "7ee354a6-9150-4303-b6ef-7709b41a01d6"
      },
      "source": [
        "max(dic.values())"
      ],
      "execution_count": 33,
      "outputs": [
        {
          "output_type": "execute_result",
          "data": {
            "text/plain": [
              "1598"
            ]
          },
          "metadata": {
            "tags": []
          },
          "execution_count": 33
        }
      ]
    },
    {
      "cell_type": "code",
      "metadata": {
        "id": "p7pgY837_0zI"
      },
      "source": [
        "data_count1 = []\n",
        "m  = -1\n",
        "sentences = data1[0].tolist()\n",
        "for line in sentences:\n",
        "    line = line.split(\" \")\n",
        "    x = []\n",
        "    for word in line:\n",
        "        x.append(dic[word])\n",
        "    m = max(m, len(x))\n",
        "    data_count1.append(x[:1000])"
      ],
      "execution_count": 34,
      "outputs": []
    },
    {
      "cell_type": "code",
      "metadata": {
        "id": "BOWu3LNr_0zJ"
      },
      "source": [
        "data_count2 = []\n",
        "sentences = data[\"comment_text\"].tolist()\n",
        "for line in sentences:\n",
        "    line = line.split(\" \")\n",
        "    x = []\n",
        "    for word in line:\n",
        "        x.append(dic[word])\n",
        "    m = max(m, len(x))\n",
        "    data_count2.append(x[:1000])"
      ],
      "execution_count": 35,
      "outputs": []
    },
    {
      "cell_type": "code",
      "metadata": {
        "id": "_mYjYN_X_0zJ",
        "colab": {
          "base_uri": "https://localhost:8080/"
        },
        "outputId": "083a9d22-7923-48a1-b78a-2f175cc2d325"
      },
      "source": [
        "x1 = np.array(data_count1)"
      ],
      "execution_count": 36,
      "outputs": [
        {
          "output_type": "stream",
          "text": [
            "/usr/local/lib/python3.7/dist-packages/ipykernel_launcher.py:1: VisibleDeprecationWarning: Creating an ndarray from ragged nested sequences (which is a list-or-tuple of lists-or-tuples-or ndarrays with different lengths or shapes) is deprecated. If you meant to do this, you must specify 'dtype=object' when creating the ndarray\n",
            "  \"\"\"Entry point for launching an IPython kernel.\n"
          ],
          "name": "stderr"
        }
      ]
    },
    {
      "cell_type": "code",
      "metadata": {
        "id": "VBDC99LK_0zK",
        "colab": {
          "base_uri": "https://localhost:8080/"
        },
        "outputId": "fb477c3a-ef4e-4e11-eb4e-6364622f4197"
      },
      "source": [
        "x2 = np.array(data_count2)"
      ],
      "execution_count": 37,
      "outputs": [
        {
          "output_type": "stream",
          "text": [
            "/usr/local/lib/python3.7/dist-packages/ipykernel_launcher.py:1: VisibleDeprecationWarning: Creating an ndarray from ragged nested sequences (which is a list-or-tuple of lists-or-tuples-or ndarrays with different lengths or shapes) is deprecated. If you meant to do this, you must specify 'dtype=object' when creating the ndarray\n",
            "  \"\"\"Entry point for launching an IPython kernel.\n"
          ],
          "name": "stderr"
        }
      ]
    },
    {
      "cell_type": "code",
      "metadata": {
        "id": "3SSpv-PA_0zK"
      },
      "source": [
        "y1 = data1['index'].to_numpy()"
      ],
      "execution_count": 38,
      "outputs": []
    },
    {
      "cell_type": "code",
      "metadata": {
        "id": "ZkhGN3HH_0zK"
      },
      "source": [
        "y2 = data.drop(['id', 'comment_text'], axis=1).values"
      ],
      "execution_count": 39,
      "outputs": []
    },
    {
      "cell_type": "markdown",
      "metadata": {
        "id": "XuANjvvB_0zL"
      },
      "source": [
        "## Defining the Model"
      ]
    },
    {
      "cell_type": "code",
      "metadata": {
        "id": "PR9zddx1_0zL"
      },
      "source": [
        "#Implementing a Transformer block as a layer\n",
        "class TransformerBlock(layers.Layer):\n",
        "    def __init__(self, embed_dim, num_heads, ff_dim, rate=0.1):\n",
        "        super(TransformerBlock, self).__init__()\n",
        "        self.att = layers.MultiHeadAttention(num_heads=num_heads, key_dim=embed_dim)\n",
        "        self.ffn = keras.Sequential(\n",
        "            [layers.Dense(ff_dim, activation=\"relu\"), layers.Dense(embed_dim),]\n",
        "        )\n",
        "        self.layernorm1 = layers.LayerNormalization(epsilon=1e-6)\n",
        "        self.layernorm2 = layers.LayerNormalization(epsilon=1e-6)\n",
        "        self.dropout1 = layers.Dropout(rate)\n",
        "        self.dropout2 = layers.Dropout(rate)\n",
        "\n",
        "    def call(self, inputs, training):\n",
        "        attn_output = self.att(inputs, inputs)\n",
        "        attn_output = self.dropout1(attn_output, training=training)\n",
        "        out1 = self.layernorm1(inputs + attn_output)\n",
        "        ffn_output = self.ffn(out1)\n",
        "        ffn_output = self.dropout2(ffn_output, training=training)\n",
        "        return self.layernorm2(out1 + ffn_output)"
      ],
      "execution_count": 40,
      "outputs": []
    },
    {
      "cell_type": "code",
      "metadata": {
        "id": "0-gycV5q_0zM"
      },
      "source": [
        "# Implement embedding layer\n",
        "# Two seperate embedding layers, one for tokens, one for token index (positions).\n",
        "class TokenAndPositionEmbedding(layers.Layer):\n",
        "    def __init__(self, maxlen, vocab_size, embed_dim):\n",
        "        super(TokenAndPositionEmbedding, self).__init__()\n",
        "        self.token_emb = layers.Embedding(input_dim=vocab_size, output_dim=embed_dim)\n",
        "        self.pos_emb = layers.Embedding(input_dim=maxlen, output_dim=embed_dim)\n",
        "\n",
        "    def call(self, x):\n",
        "        maxlen = tf.shape(x)[-1]\n",
        "        positions = tf.range(start=0, limit=maxlen, delta=1)\n",
        "        positions = self.pos_emb(positions)\n",
        "        x = self.token_emb(x)\n",
        "        return x + positions"
      ],
      "execution_count": 41,
      "outputs": []
    },
    {
      "cell_type": "code",
      "metadata": {
        "id": "V6Ax649m_0zN"
      },
      "source": [
        "vocab_size = 10000\n",
        "maxlen = 1000"
      ],
      "execution_count": 42,
      "outputs": []
    },
    {
      "cell_type": "code",
      "metadata": {
        "id": "fLbRa3so_0zN"
      },
      "source": [
        "embed_dim = 32  # Embedding size for each token\n",
        "num_heads = 2  # Number of attention heads\n",
        "ff_dim = 32  # Hidden layer size in feed forward network inside transformer\n",
        "\n",
        "inputs = layers.Input(shape=(maxlen,))\n",
        "embedding_layer = TokenAndPositionEmbedding(maxlen, vocab_size, embed_dim)\n",
        "x = embedding_layer(inputs)\n",
        "transformer_block = TransformerBlock(embed_dim, num_heads, ff_dim)\n",
        "x = transformer_block(x)\n",
        "x = layers.GlobalAveragePooling1D()(x)\n",
        "x = layers.Dropout(0.1)(x)\n",
        "x = layers.Dense(20, activation=\"relu\")(x)\n",
        "y = layers.Dense(10, activation=\"relu\")(x)\n",
        "x = layers.Dropout(0.1)(x)\n",
        "outputs = layers.Dense(1, activation=\"sigmoid\", name=\"output\")(x)\n",
        "\n",
        "y = layers.Dropout(0.1)(y)\n",
        "outputs2 = layers.Dense(6, activation=\"sigmoid\", name=\"output2\")(y)\n",
        "\n",
        "# Transformer layer outputs one vector for each time step of our input sequence. \n",
        "# Here, we take the mean across all time steps and use a feed forward network on top of it to classify text.\n",
        "\n",
        "model1 = keras.Model(inputs=inputs, outputs=outputs)\n",
        "model2 = keras.Model(inputs=inputs, outputs=outputs2)\n",
        "combined_model = keras.Model(inputs=inputs, outputs = [outputs, outputs2])"
      ],
      "execution_count": 43,
      "outputs": []
    },
    {
      "cell_type": "code",
      "metadata": {
        "id": "AVmPq45CAJLQ",
        "colab": {
          "base_uri": "https://localhost:8080/",
          "height": 758
        },
        "outputId": "19c96da9-d0f2-4665-be4c-67d67b3dc097"
      },
      "source": [
        "tf.keras.utils.plot_model(\n",
        "    model1, to_file='model1.png',\n",
        ")"
      ],
      "execution_count": 44,
      "outputs": [
        {
          "output_type": "execute_result",
          "data": {
            "image/png": "[encoded data removed]",
            "text/plain": [
              "<IPython.core.display.Image object>"
            ]
          },
          "metadata": {
            "tags": []
          },
          "execution_count": 44
        }
      ]
    },
    {
      "cell_type": "code",
      "metadata": {
        "id": "MXvZBfx7ASvQ",
        "colab": {
          "base_uri": "https://localhost:8080/",
          "height": 856
        },
        "outputId": "de945055-2ed2-4e88-bc5c-41bc8288c3c7"
      },
      "source": [
        "tf.keras.utils.plot_model(\n",
        "    model2, to_file='model2.png',\n",
        ")"
      ],
      "execution_count": 45,
      "outputs": [
        {
          "output_type": "execute_result",
          "data": {
            "image/png": "[encoded data removed]",
            "text/plain": [
              "<IPython.core.display.Image object>"
            ]
          },
          "metadata": {
            "tags": []
          },
          "execution_count": 45
        }
      ]
    },
    {
      "cell_type": "code",
      "metadata": {
        "id": "rj9tffk1AUmg",
        "colab": {
          "base_uri": "https://localhost:8080/",
          "height": 856
        },
        "outputId": "d844524d-6fdf-439e-8d99-ef219fd2e821"
      },
      "source": [
        "tf.keras.utils.plot_model(\n",
        "    combined_model, to_file='combined_model.png',\n",
        ")"
      ],
      "execution_count": 46,
      "outputs": [
        {
          "output_type": "execute_result",
          "data": {
            "image/png": "[encoded data removed]",
            "text/plain": [
              "<IPython.core.display.Image object>"
            ]
          },
          "metadata": {
            "tags": []
          },
          "execution_count": 46
        }
      ]
    },
    {
      "cell_type": "code",
      "metadata": {
        "id": "IPeYHdGW_0zN"
      },
      "source": [
        "model1.compile(optimizer=tf.keras.optimizers.Adam(),\n",
        "              loss=tf.keras.losses.BinaryCrossentropy(from_logits=True),metrics=['accuracy'])"
      ],
      "execution_count": 47,
      "outputs": []
    },
    {
      "cell_type": "code",
      "metadata": {
        "id": "1lYZLf9z_0zO"
      },
      "source": [
        "model2.compile(optimizer=tf.keras.optimizers.Adam(),\n",
        "              loss=tf.keras.losses.BinaryCrossentropy(from_logits=True),metrics=['accuracy'])"
      ],
      "execution_count": 48,
      "outputs": []
    },
    {
      "cell_type": "code",
      "metadata": {
        "id": "S3UvwWdR_0zO"
      },
      "source": [
        "x_train1 = tf.keras.preprocessing.sequence.pad_sequences(x1, maxlen=maxlen)"
      ],
      "execution_count": 49,
      "outputs": []
    },
    {
      "cell_type": "code",
      "metadata": {
        "id": "AzJE2A9l_0zO"
      },
      "source": [
        "x_train2 = tf.keras.preprocessing.sequence.pad_sequences(x2, maxlen=maxlen)"
      ],
      "execution_count": 50,
      "outputs": []
    },
    {
      "cell_type": "code",
      "metadata": {
        "id": "STRmPD8S_0zQ",
        "colab": {
          "base_uri": "https://localhost:8080/"
        },
        "outputId": "88c7bc4f-23b2-4f5f-f028-ea1b07296a57"
      },
      "source": [
        "import random\n",
        "for i in range(10):\n",
        "    x = random.random()\n",
        "    if(x<0.5):\n",
        "        print(\"Model 1\")\n",
        "        model1.fit(x_train1, y1, batch_size = 128, epochs=1, verbose=1, validation_split = 0.1,)\n",
        "    else:\n",
        "        print(\"Model 2\")\n",
        "        model2.fit(x_train2, y2, batch_size=128, epochs=1, verbose=1, validation_split = 0.1, )"
      ],
      "execution_count": 51,
      "outputs": [
        {
          "output_type": "stream",
          "text": [
            "Model 1\n",
            "176/176 [==============================] - 37s 199ms/step - loss: 0.7009 - accuracy: 0.5020 - val_loss: 0.6888 - val_accuracy: 0.5100\n",
            "Model 1\n",
            "176/176 [==============================] - 35s 197ms/step - loss: 0.5708 - accuracy: 0.6676 - val_loss: 0.3320 - val_accuracy: 0.8528\n",
            "Model 2\n",
            "352/352 [==============================] - 71s 197ms/step - loss: 0.2906 - accuracy: 0.2606 - val_loss: 0.0783 - val_accuracy: 0.9950\n",
            "Model 2\n",
            "352/352 [==============================] - 70s 198ms/step - loss: 0.0820 - accuracy: 0.7759 - val_loss: 0.0696 - val_accuracy: 0.9950\n",
            "Model 1\n",
            "176/176 [==============================] - 35s 199ms/step - loss: 0.5298 - accuracy: 0.7523 - val_loss: 0.3620 - val_accuracy: 0.8344\n",
            "Model 2\n",
            "352/352 [==============================] - 70s 200ms/step - loss: 0.0811 - accuracy: 0.8691 - val_loss: 0.0695 - val_accuracy: 0.9950\n",
            "Model 1\n",
            "176/176 [==============================] - 35s 200ms/step - loss: 0.4709 - accuracy: 0.7832 - val_loss: 0.3354 - val_accuracy: 0.8536\n",
            "Model 1\n",
            "176/176 [==============================] - 35s 200ms/step - loss: 0.3269 - accuracy: 0.8647 - val_loss: 0.3239 - val_accuracy: 0.8588\n",
            "Model 2\n",
            "352/352 [==============================] - 70s 200ms/step - loss: 0.0754 - accuracy: 0.9000 - val_loss: 0.0671 - val_accuracy: 0.9950\n",
            "Model 2\n",
            "352/352 [==============================] - 70s 199ms/step - loss: 0.0640 - accuracy: 0.9494 - val_loss: 0.0649 - val_accuracy: 0.9950\n"
          ],
          "name": "stdout"
        }
      ]
    }
  ]
}